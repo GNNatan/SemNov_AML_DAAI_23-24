{
 "cells": [
  {
   "cell_type": "code",
   "execution_count": null,
   "metadata": {},
   "outputs": [],
   "source": [
    "import torch\n",
    "import os\n",
    "import torch.nn.functional as F\n",
    "import numpy as np"
   ]
  },
  {
   "cell_type": "code",
   "execution_count": null,
   "metadata": {},
   "outputs": [],
   "source": [
    "def load_from_file(filename):\n",
    "    return torch.load(filename, map_location=torch.device('cpu'))"
   ]
  },
  {
   "cell_type": "code",
   "execution_count": null,
   "metadata": {},
   "outputs": [],
   "source": [
    "torch.set_printoptions(threshold=10000000)\n",
    "\n",
    "##### DISCRIMINATIVE\n",
    "src_logits = load_from_file('resources/tensors/DGCNN_CE_SR1/src_logits.pt')\n",
    "tar1_logits = load_from_file('resources/tensors/DGCNN_CE_SR1/tar1_logits.pt')\n",
    "tar2_logits = load_from_file('resources/tensors/DGCNN_CE_SR1/tar2_logits.pt')\n",
    "\n",
    "src_MSP_scores, src_MSP_pred = F.softmax(src_logits, dim=1).max(1)\n",
    "tar1_MSP_scores, tar1_MSP_pred = F.softmax(tar1_logits, dim=1).max(1)\n",
    "tar2_MSP_scores, tar2_MSP_pred = F.softmax(tar2_logits, dim=1).max(1)\n",
    "\n",
    "##### DISTANCE BASED \n",
    "src_dist = load_from_file('resources/tensors/DGCNN_CE_SR1/src_dist.pt')\n",
    "src_ids = load_from_file('resources/tensors/DGCNN_CE_SR1/src_ids.pt')\n",
    "tar1_dist = load_from_file('resources/tensors/DGCNN_CE_SR1/tar1_dist.pt')\n",
    "tar1_ids = load_from_file('resources/tensors/DGCNN_CE_SR1/tar1_ids.pt')\n",
    "tar2_dist = load_from_file('resources/tensors/DGCNN_CE_SR1/tar2_dist.pt')\n",
    "tar2_ids = load_from_file('resources/tensors/DGCNN_CE_SR1/tar2_ids.pt')\n",
    "\n",
    "src_feats = load_from_file('resources/feats/DGCNN_CE_SR1.pt')\n",
    "\n",
    "# set OOD labels\n",
    "tar1_labels = torch.from_numpy(np.full((1,len(tar1_logits)), 404)).squeeze().cpu()\n",
    "tar2_labels = torch.from_numpy(np.full((1,len(tar2_logits)), 404)).squeeze().cpu()\n",
    "src_labels = load_from_file('resources/tensors/DGCNN_CE_SR1/src_labels.pt')"
   ]
  },
  {
   "cell_type": "code",
   "execution_count": null,
   "metadata": {},
   "outputs": [],
   "source": [
    "import matplotlib.pyplot as plt\n",
    "\n",
    "def accuracy(samples, labels, truth, threshold) -> float:\n",
    "    acc = 0  #sum of all correct predictions\n",
    "    i = 0    #number of iterations\n",
    "    pred = 0 #temporary variable to store the prediction relative to the current sample\n",
    "    for s in samples:\n",
    "        if s > threshold:\n",
    "            pred = labels[i]\n",
    "        else:\n",
    "            pred = 404\n",
    "        if pred == truth[i]:\n",
    "            acc += 1\n",
    "        i += 1\n",
    "    return acc/i\n",
    "\n",
    "def calculate_threshold(scores, preds, truth) -> float:\n",
    "    thresholds = np.linspace(0, 1, 100)\n",
    "    accuracies = []\n",
    "    for t in thresholds:\n",
    "        accuracies.append(accuracy(scores, preds, truth, t))\n",
    "\n",
    "    plt.title('Threshold effect on model accuracy')\n",
    "    plt.xlabel('Threshold')\n",
    "    plt.ylabel('Accuracy')\n",
    "    plt.plot(thresholds, accuracies)\n",
    "\n",
    "    return thresholds[np.argmax(accuracies)]"
   ]
  },
  {
   "cell_type": "code",
   "execution_count": null,
   "metadata": {},
   "outputs": [],
   "source": [
    "samples_MSP = torch.hstack((src_MSP_scores, tar1_MSP_scores, tar2_MSP_scores))\n",
    "labels_MSP = torch.hstack((src_MSP_pred, tar1_MSP_pred, tar2_MSP_pred))\n",
    "truth = torch.hstack((src_labels, tar1_labels, tar2_labels))\n",
    "threshold_MSP = calculate_threshold(samples_MSP, labels_MSP, truth)\n",
    "\n",
    "print(\"Best value for threshold: \" + str(threshold_MSP))"
   ]
  },
  {
   "cell_type": "code",
   "execution_count": null,
   "metadata": {},
   "outputs": [],
   "source": [
    "# train truth\n",
    "train_labels = src_feats[\"train_labels\"]\n",
    "\n",
    "src_L2_dist = src_dist.squeeze().cpu()\n",
    "src_L2_ids = src_ids.squeeze().cpu()  # index of nearest training sample\n",
    "src_L2_scores = 1 / src_dist\n",
    "src_L2_pred = torch.from_numpy(train_labels[src_ids])\n",
    "\n",
    "tar1_L2_dist = tar1_dist.squeeze().cpu()\n",
    "tar1_L2_ids = tar1_ids.squeeze().cpu()  # index of nearest training sample\n",
    "tar1_L2_scores = 1 / tar1_dist\n",
    "tar1_L2_pred = torch.from_numpy(train_labels[tar1_ids])\n",
    "\n",
    "tar2_L2_dist = tar2_dist.squeeze().cpu()\n",
    "tar2_L2_ids = tar2_ids.squeeze().cpu()  # index of nearest training sample\n",
    "tar2_L2_scores = 1 / tar2_dist\n",
    "tar2_L2_pred = torch.from_numpy(train_labels[tar2_ids])\n",
    "\n",
    "ids_L2 = torch.hstack((src_L2_ids, tar1_L2_ids, tar2_L2_ids))\n",
    "scores_L2 = torch.hstack((src_L2_scores, tar1_L2_scores, tar2_L2_scores))\n",
    "labels_L2 = torch.hstack((src_L2_pred, tar1_L2_pred, tar2_L2_pred))\n",
    "truth = torch.hstack((src_labels, tar1_labels, tar2_labels))\n",
    "\n",
    "l2_threshold = calculate_threshold(scores_L2, labels_L2, truth)\n",
    "print(\"Best value for threshold: \" + str(l2_threshold))\n",
    "\n",
    "# misclassified samples\n",
    "misclas_samples_ids = (~labels_L2.eq(truth)).nonzero(as_tuple=True)\n",
    "\n",
    "print(misclas_samples_ids)\n",
    "\n"
   ]
  }
 ],
 "metadata": {
  "kernelspec": {
   "display_name": "Python 3",
   "language": "python",
   "name": "python3"
  },
  "language_info": {
   "codemirror_mode": {
    "name": "ipython",
    "version": 3
   },
   "file_extension": ".py",
   "mimetype": "text/x-python",
   "name": "python",
   "nbconvert_exporter": "python",
   "pygments_lexer": "ipython3",
   "version": "3.10.12"
  }
 },
 "nbformat": 4,
 "nbformat_minor": 2
}
