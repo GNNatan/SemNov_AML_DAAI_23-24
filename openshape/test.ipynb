{
 "cells": [
  {
   "cell_type": "code",
   "execution_count": 1,
   "metadata": {},
   "outputs": [
    {
     "name": "stdout",
     "output_type": "stream",
     "text": [
      "Jupyter environment detected. Enabling Open3D WebVisualizer.\n",
      "[Open3D INFO] WebRTC GUI backend enabled.\n",
      "[Open3D INFO] WebRTCWindowSystem: HTTP handshake server disabled.\n"
     ]
    }
   ],
   "source": [
    "import numpy as np\n",
    "import open3d as o3d\n",
    "import random\n",
    "import torch\n",
    "import sys\n",
    "from src.param import parse_args\n",
    "import src.models as models\n",
    "from src.utils.data import normalize_pc\n",
    "from src.utils.misc import load_config\n",
    "from huggingface_hub import hf_hub_download\n",
    "from collections import OrderedDict\n",
    "import open_clip\n",
    "import re\n",
    "from PIL import Image\n",
    "import torch.nn.functional as F\n",
    "import h5py"
   ]
  },
  {
   "cell_type": "code",
   "execution_count": 2,
   "metadata": {},
   "outputs": [],
   "source": [
    "def load_pcd(pcd, num_points=2048, y_up=True):\n",
    "    #pcd = o3d.io.read_point_cloud(file_name)\n",
    "    xyz = np.asarray(pcd.points)\n",
    "    rgb = np.asarray(pcd.colors)\n",
    "    n = xyz.shape[0]\n",
    "    if n != num_points:\n",
    "        idx = random.sample(range(n), num_points)\n",
    "        xyz = xyz[idx]\n",
    "        rgb = rgb[idx]\n",
    "    if y_up:\n",
    "        # swap y and z axis\n",
    "        xyz[:, [1, 2]] = xyz[:, [2, 1]]\n",
    "    xyz = normalize_pc(xyz)\n",
    "    if rgb is None:\n",
    "        rgb = np.ones_like(rgb) * 0.4\n",
    "    features = np.concatenate([xyz, rgb], axis=1)\n",
    "    xyz = torch.from_numpy(xyz).type(torch.float32)\n",
    "    features = torch.from_numpy(features).type(torch.float32)\n",
    "    return torch.stack([xyz]).float(), torch.stack([features]).cuda()"
   ]
  },
  {
   "cell_type": "code",
   "execution_count": 3,
   "metadata": {},
   "outputs": [],
   "source": [
    "def load_model(config, model_name=\"OpenShape/openshape-pointbert-vitg14-rgb\"):\n",
    "    model = models.make(config).cuda()\n",
    "\n",
    "    model = torch.nn.SyncBatchNorm.convert_sync_batchnorm(model)\n",
    "\n",
    "    checkpoint = torch.load(hf_hub_download(repo_id=model_name, filename=\"model.pt\"))\n",
    "    model_dict = OrderedDict()\n",
    "    pattern = re.compile('module.')\n",
    "    for k,v in checkpoint['state_dict'].items():\n",
    "        if re.search(\"module\", k):\n",
    "            model_dict[re.sub(pattern, '', k)] = v\n",
    "    model.load_state_dict(model_dict)\n",
    "    return model"
   ]
  },
  {
   "cell_type": "code",
   "execution_count": 4,
   "metadata": {},
   "outputs": [],
   "source": [
    "@torch.no_grad()\n",
    "def extract_text_feat(texts, clip_model,):\n",
    "    text_tokens = open_clip.tokenizer.tokenize(texts).cuda()\n",
    "    return clip_model.encode_text(text_tokens)"
   ]
  },
  {
   "cell_type": "code",
   "execution_count": 5,
   "metadata": {},
   "outputs": [],
   "source": [
    "def class_probs(pcd):\n",
    "    cli_args, extras = parse_args(sys.argv[1:])\n",
    "    config = load_config(\"src/configs/train.yaml\", cli_args = vars(cli_args), extra_args = extras)\n",
    "    model = load_model(config)\n",
    "    model.eval()\n",
    "\n",
    "    open_clip_model, _, open_clip_preprocess = open_clip.create_model_and_transforms('ViT-bigG-14', pretrained='laion2b_s39b_b160k', cache_dir=\"/kaiming-fast-vol/workspace/open_clip_model/\")\n",
    "    open_clip_model.cuda().eval()\n",
    "\n",
    "    xyz, feat = load_pcd(pcd)\n",
    "    shape_feat = model(xyz, feat, device='cuda', quantization_size=config.model.voxel_size) \n",
    "\n",
    "    texts = [\"chair\", \"shelf\", \"door\", \"sink\", \"sofa\", \"bed\", \"toilet\", \"desk\", \"display\", \"table\"]\n",
    "    text_feat = extract_text_feat(texts, open_clip_model)\n",
    "    scores = F.normalize(shape_feat, dim=1) @ F.normalize(text_feat, dim=1).T\n",
    "    return F.softmax(scores)"
   ]
  },
  {
   "cell_type": "code",
   "execution_count": 6,
   "metadata": {},
   "outputs": [
    {
     "name": "stderr",
     "output_type": "stream",
     "text": [
      "C:\\Users\\gnnat\\AppData\\Local\\Packages\\PythonSoftwareFoundation.Python.3.10_qbz5n2kfra8p0\\LocalCache\\local-packages\\Python310\\site-packages\\torch\\nn\\functional.py:5476: UserWarning: 1Torch was not compiled with flash attention. (Triggered internally at ..\\aten\\src\\ATen\\native\\transformers\\cuda\\sdp_utils.cpp:263.)\n",
      "  attn_output = scaled_dot_product_attention(q, k, v, attn_mask, dropout_p, is_causal)\n",
      "C:\\Users\\gnnat\\AppData\\Local\\Temp\\ipykernel_22488\\3628047262.py:16: UserWarning: Implicit dimension choice for softmax has been deprecated. Change the call to include dim=X as an argument.\n",
      "  return F.softmax(scores)\n"
     ]
    },
    {
     "name": "stdout",
     "output_type": "stream",
     "text": [
      "tensor([[0.0997, 0.0991, 0.0975, 0.1017, 0.1008, 0.1043, 0.1009, 0.0995, 0.0999,\n",
      "         0.0966]], device='cuda:0', grad_fn=<SoftmaxBackward0>)\n"
     ]
    },
    {
     "ename": "KeyboardInterrupt",
     "evalue": "",
     "output_type": "error",
     "traceback": [
      "\u001b[1;31m---------------------------------------------------------------------------\u001b[0m",
      "\u001b[1;31mKeyboardInterrupt\u001b[0m                         Traceback (most recent call last)",
      "Cell \u001b[1;32mIn[6], line 8\u001b[0m\n\u001b[0;32m      6\u001b[0m pcd\u001b[38;5;241m.\u001b[39mpoints \u001b[38;5;241m=\u001b[39m o3d\u001b[38;5;241m.\u001b[39mutility\u001b[38;5;241m.\u001b[39mVector3dVector(c)\n\u001b[0;32m      7\u001b[0m pcd\u001b[38;5;241m.\u001b[39mcolors \u001b[38;5;241m=\u001b[39m o3d\u001b[38;5;241m.\u001b[39mutility\u001b[38;5;241m.\u001b[39mVector3dVector(np\u001b[38;5;241m.\u001b[39mones_like(c) \u001b[38;5;241m*\u001b[39m \u001b[38;5;241m0.4\u001b[39m)\n\u001b[1;32m----> 8\u001b[0m \u001b[38;5;28mprint\u001b[39m(\u001b[43mclass_probs\u001b[49m\u001b[43m(\u001b[49m\u001b[43mpcd\u001b[49m\u001b[43m)\u001b[49m)\n",
      "Cell \u001b[1;32mIn[5], line 14\u001b[0m, in \u001b[0;36mclass_probs\u001b[1;34m(pcd)\u001b[0m\n\u001b[0;32m     11\u001b[0m shape_feat \u001b[38;5;241m=\u001b[39m model(xyz, feat, device\u001b[38;5;241m=\u001b[39m\u001b[38;5;124m'\u001b[39m\u001b[38;5;124mcuda\u001b[39m\u001b[38;5;124m'\u001b[39m, quantization_size\u001b[38;5;241m=\u001b[39mconfig\u001b[38;5;241m.\u001b[39mmodel\u001b[38;5;241m.\u001b[39mvoxel_size) \n\u001b[0;32m     13\u001b[0m texts \u001b[38;5;241m=\u001b[39m [\u001b[38;5;124m\"\u001b[39m\u001b[38;5;124mchair\u001b[39m\u001b[38;5;124m\"\u001b[39m, \u001b[38;5;124m\"\u001b[39m\u001b[38;5;124mshelf\u001b[39m\u001b[38;5;124m\"\u001b[39m, \u001b[38;5;124m\"\u001b[39m\u001b[38;5;124mdoor\u001b[39m\u001b[38;5;124m\"\u001b[39m, \u001b[38;5;124m\"\u001b[39m\u001b[38;5;124msink\u001b[39m\u001b[38;5;124m\"\u001b[39m, \u001b[38;5;124m\"\u001b[39m\u001b[38;5;124msofa\u001b[39m\u001b[38;5;124m\"\u001b[39m, \u001b[38;5;124m\"\u001b[39m\u001b[38;5;124mbed\u001b[39m\u001b[38;5;124m\"\u001b[39m, \u001b[38;5;124m\"\u001b[39m\u001b[38;5;124mtoilet\u001b[39m\u001b[38;5;124m\"\u001b[39m, \u001b[38;5;124m\"\u001b[39m\u001b[38;5;124mdesk\u001b[39m\u001b[38;5;124m\"\u001b[39m, \u001b[38;5;124m\"\u001b[39m\u001b[38;5;124mdisplay\u001b[39m\u001b[38;5;124m\"\u001b[39m, \u001b[38;5;124m\"\u001b[39m\u001b[38;5;124mtable\u001b[39m\u001b[38;5;124m\"\u001b[39m]\n\u001b[1;32m---> 14\u001b[0m text_feat \u001b[38;5;241m=\u001b[39m \u001b[43mextract_text_feat\u001b[49m\u001b[43m(\u001b[49m\u001b[43mtexts\u001b[49m\u001b[43m,\u001b[49m\u001b[43m \u001b[49m\u001b[43mopen_clip_model\u001b[49m\u001b[43m)\u001b[49m\n\u001b[0;32m     15\u001b[0m scores \u001b[38;5;241m=\u001b[39m F\u001b[38;5;241m.\u001b[39mnormalize(shape_feat, dim\u001b[38;5;241m=\u001b[39m\u001b[38;5;241m1\u001b[39m) \u001b[38;5;241m@\u001b[39m F\u001b[38;5;241m.\u001b[39mnormalize(text_feat, dim\u001b[38;5;241m=\u001b[39m\u001b[38;5;241m1\u001b[39m)\u001b[38;5;241m.\u001b[39mT\n\u001b[0;32m     16\u001b[0m \u001b[38;5;28;01mreturn\u001b[39;00m F\u001b[38;5;241m.\u001b[39msoftmax(scores)\n",
      "File \u001b[1;32m~\\AppData\\Local\\Packages\\PythonSoftwareFoundation.Python.3.10_qbz5n2kfra8p0\\LocalCache\\local-packages\\Python310\\site-packages\\torch\\utils\\_contextlib.py:115\u001b[0m, in \u001b[0;36mcontext_decorator.<locals>.decorate_context\u001b[1;34m(*args, **kwargs)\u001b[0m\n\u001b[0;32m    112\u001b[0m \u001b[38;5;129m@functools\u001b[39m\u001b[38;5;241m.\u001b[39mwraps(func)\n\u001b[0;32m    113\u001b[0m \u001b[38;5;28;01mdef\u001b[39;00m \u001b[38;5;21mdecorate_context\u001b[39m(\u001b[38;5;241m*\u001b[39margs, \u001b[38;5;241m*\u001b[39m\u001b[38;5;241m*\u001b[39mkwargs):\n\u001b[0;32m    114\u001b[0m     \u001b[38;5;28;01mwith\u001b[39;00m ctx_factory():\n\u001b[1;32m--> 115\u001b[0m         \u001b[38;5;28;01mreturn\u001b[39;00m func(\u001b[38;5;241m*\u001b[39margs, \u001b[38;5;241m*\u001b[39m\u001b[38;5;241m*\u001b[39mkwargs)\n",
      "Cell \u001b[1;32mIn[4], line 4\u001b[0m, in \u001b[0;36mextract_text_feat\u001b[1;34m(texts, clip_model)\u001b[0m\n\u001b[0;32m      1\u001b[0m \u001b[38;5;129m@torch\u001b[39m\u001b[38;5;241m.\u001b[39mno_grad()\n\u001b[0;32m      2\u001b[0m \u001b[38;5;28;01mdef\u001b[39;00m \u001b[38;5;21mextract_text_feat\u001b[39m(texts, clip_model,):\n\u001b[0;32m      3\u001b[0m     text_tokens \u001b[38;5;241m=\u001b[39m open_clip\u001b[38;5;241m.\u001b[39mtokenizer\u001b[38;5;241m.\u001b[39mtokenize(texts)\u001b[38;5;241m.\u001b[39mcuda()\n\u001b[1;32m----> 4\u001b[0m     \u001b[38;5;28;01mreturn\u001b[39;00m \u001b[43mclip_model\u001b[49m\u001b[38;5;241;43m.\u001b[39;49m\u001b[43mencode_text\u001b[49m\u001b[43m(\u001b[49m\u001b[43mtext_tokens\u001b[49m\u001b[43m)\u001b[49m\n",
      "File \u001b[1;32m~\\AppData\\Local\\Packages\\PythonSoftwareFoundation.Python.3.10_qbz5n2kfra8p0\\LocalCache\\local-packages\\Python310\\site-packages\\open_clip\\model.py:279\u001b[0m, in \u001b[0;36mCLIP.encode_text\u001b[1;34m(self, text, normalize)\u001b[0m\n\u001b[0;32m    277\u001b[0m x \u001b[38;5;241m=\u001b[39m x\u001b[38;5;241m.\u001b[39mpermute(\u001b[38;5;241m1\u001b[39m, \u001b[38;5;241m0\u001b[39m, \u001b[38;5;241m2\u001b[39m)  \u001b[38;5;66;03m# LND -> NLD\u001b[39;00m\n\u001b[0;32m    278\u001b[0m x \u001b[38;5;241m=\u001b[39m \u001b[38;5;28mself\u001b[39m\u001b[38;5;241m.\u001b[39mln_final(x)  \u001b[38;5;66;03m# [batch_size, n_ctx, transformer.width]\u001b[39;00m\n\u001b[1;32m--> 279\u001b[0m x, _ \u001b[38;5;241m=\u001b[39m \u001b[43mtext_global_pool\u001b[49m\u001b[43m(\u001b[49m\u001b[43mx\u001b[49m\u001b[43m,\u001b[49m\u001b[43m \u001b[49m\u001b[43mtext\u001b[49m\u001b[43m,\u001b[49m\u001b[43m \u001b[49m\u001b[38;5;28;43mself\u001b[39;49m\u001b[38;5;241;43m.\u001b[39;49m\u001b[43mtext_pool_type\u001b[49m\u001b[43m)\u001b[49m\n\u001b[0;32m    280\u001b[0m \u001b[38;5;28;01mif\u001b[39;00m \u001b[38;5;28mself\u001b[39m\u001b[38;5;241m.\u001b[39mtext_projection \u001b[38;5;129;01mis\u001b[39;00m \u001b[38;5;129;01mnot\u001b[39;00m \u001b[38;5;28;01mNone\u001b[39;00m:\n\u001b[0;32m    281\u001b[0m     \u001b[38;5;28;01mif\u001b[39;00m \u001b[38;5;28misinstance\u001b[39m(\u001b[38;5;28mself\u001b[39m\u001b[38;5;241m.\u001b[39mtext_projection, nn\u001b[38;5;241m.\u001b[39mLinear):\n",
      "\u001b[1;31mKeyboardInterrupt\u001b[0m: "
     ]
    }
   ],
   "source": [
    "sonn = h5py.File('data/sonn.h5', 'r')\n",
    "for i in range(len(sonn['data'])):\n",
    "    c = sonn['data'][i]\n",
    "    l = sonn['label'][i]\n",
    "    pcd = o3d.geometry.PointCloud()\n",
    "    pcd.points = o3d.utility.Vector3dVector(c)\n",
    "    pcd.colors = o3d.utility.Vector3dVector(np.ones_like(c) * 0.4)\n",
    "    print(class_probs(pcd))\n"
   ]
  }
 ],
 "metadata": {
  "kernelspec": {
   "display_name": "Python 3",
   "language": "python",
   "name": "python3"
  },
  "language_info": {
   "codemirror_mode": {
    "name": "ipython",
    "version": 3
   },
   "file_extension": ".py",
   "mimetype": "text/x-python",
   "name": "python",
   "nbconvert_exporter": "python",
   "pygments_lexer": "ipython3",
   "version": "3.10.11"
  }
 },
 "nbformat": 4,
 "nbformat_minor": 2
}
